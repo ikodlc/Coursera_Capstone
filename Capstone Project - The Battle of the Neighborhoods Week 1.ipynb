{
    "cells": [
        {
            "cell_type": "markdown",
            "metadata": {
                "collapsed": true
            },
            "source": "# Capstone Project - The Battle of Neighborhoods"
        },
        {
            "cell_type": "markdown",
            "metadata": {},
            "source": "## Applied Data Science Capstone by IBM/Coursera "
        },
        {
            "cell_type": "markdown",
            "metadata": {},
            "source": "## Introduction"
        },
        {
            "cell_type": "markdown",
            "metadata": {},
            "source": "### Background\nExpats from all over the world move to Singapore in large numbers on a yearly basis and at present there are approximately 1.64 million none permanent residents/citizens living in Singapore (September 2020). Singapore is widely regarded as the easiest city in Asia for expats to fit into and it allows foreigners an opportunity to become acquainted with different cultures in a relatively safe and modern environment.\n\nSingapore is an efficient and clean Asian city that retains much of the charm from its British colonial days whilst also offering a cutting edge, well-developed environment. Singapore\u2019s position on the southern tip of Malaysia has allowed it to develop into one of the most important trade and finance centers in Asia and today it is the fifth wealthiest country in the world according to GDP. It also has the fourth largest foreign exchange trading center in the world.\n\nSingapore\u2019s population of 5.69 million people (September 2020) largely consist of people of Chinese (70%), Malay and Indian backgrounds. The main religions followed in Singapore are Buddhism, Islam, Hinduism, Christianity and Tao.\n\nWhile Singapore does offer a high standard of living, it is also one of the most expensive cities in the world to live in. Expatriates will find that property prices are very high (whether to rent or buy), alcohol is also taxed at a high rate, and it is also costly to own a car due to the heavy taxes that are imposed on vehicles.\n\nHowever, due to its authoritarian state, expats will find that food and groceries are quite reasonable and public transportation is efficient and orderly."
        },
        {
            "cell_type": "markdown",
            "metadata": {},
            "source": "## Business Problem \nAs there are still many expats looking to move to Singapore, we would like to define some factors to guide us in choosing an optimal location within the city to move to:\n\n1. Locations near commercial real estate areas (malls, cafes, groceries, etc.)\n2. Locations near transportation hubs (MRT, buses, etc.)\n3. Slightly lower rental prices\n\nThese factors were chosen to ensure a higher chance of cost-savings and sustainability when moving to Singapore."
        },
        {
            "cell_type": "markdown",
            "metadata": {},
            "source": "## Data Description\nIn order to investigate this problem, we will be looking at the following data:\n\n1. We will be using a map of the Region Boundaries depicting the districts of Singapore from the Urban Redevelopment Authority's Master Plan 2014 to plot our data.\n2. We will be using a dataset of Median Rentals of Private Non-Landed Residential Properties by Name from the Urban Redevelopment Authority, which shows the median rent per sqm per month to get an estimate of rental prices of different housing building locations around Singapore.\n3. We will use the Foursquare API to obtain a list of commercial real estate and transportation hubs in each district around Singapore."
        },
        {
            "cell_type": "markdown",
            "metadata": {},
            "source": "## Methodology\nThe Methodology section will describe the main components of our analysis. This section is composed of four stages:\n\n1. Collecting Inspection Data\n2. Exploring and Understanding the Data\n3. Data Preparation and Pre-Processing \n4. Modelling"
        },
        {
            "cell_type": "markdown",
            "metadata": {},
            "source": "### Setting up the basics"
        },
        {
            "cell_type": "code",
            "execution_count": 15,
            "metadata": {},
            "outputs": [
                {
                    "name": "stdout",
                    "output_type": "stream",
                    "text": "Libraries imported.\n"
                }
            ],
            "source": "# First import the most likely used libraries\nimport pandas as pd\nimport numpy as np\nimport requests # library to handle requests\n\nprint('Libraries imported.')"
        },
        {
            "cell_type": "code",
            "execution_count": 16,
            "metadata": {},
            "outputs": [
                {
                    "name": "stdout",
                    "output_type": "stream",
                    "text": "Collecting package metadata (current_repodata.json): done\nSolving environment: - \nThe environment is inconsistent, please check the package plan carefully\nThe following packages are causing the inconsistency:\n\n  - defaults/noarch::ibm-wsrt-py37main-main==custom=2020\n  - defaults/noarch::ibm-wsrt-py37main-keep==0.0.0=2020\n  - conda-forge/linux-64::pytorch==1.8.0=cpu_py37hafa7651_0\ndone\n\n# All requested packages already installed.\n\nCollecting package metadata (current_repodata.json): done\nSolving environment: | \nThe environment is inconsistent, please check the package plan carefully\nThe following packages are causing the inconsistency:\n\n  - defaults/noarch::ibm-wsrt-py37main-main==custom=2020\n  - defaults/noarch::ibm-wsrt-py37main-keep==0.0.0=2020\n  - conda-forge/linux-64::pytorch==1.8.0=cpu_py37hafa7651_0\ndone\n\n# All requested packages already installed.\n\nLibraries imported.\n"
                }
            ],
            "source": "#To plot maps\n!conda install -c conda-forge folium=0.11.0 --yes\n#!pip install folium\nimport folium\nimport json # library to handle JSON files\n\n!conda install -c conda-forge geopy --yes \nfrom geopy.geocoders import Nominatim # convert an address into latitude and longitude values\n\nprint('Libraries imported.')"
        },
        {
            "cell_type": "markdown",
            "metadata": {},
            "source": "## Generate a map of Singapore\nObtain coordinates of Singapore, create plain map centered around Singapore. Download GeoJSON file to create map boundaries."
        },
        {
            "cell_type": "code",
            "execution_count": 17,
            "metadata": {},
            "outputs": [
                {
                    "name": "stdout",
                    "output_type": "stream",
                    "text": "The geograpical coordinate of Singapore are 1.357107, 103.8194992.\n"
                },
                {
                    "data": {
                        "text/html": "<div style=\"width:100%;\"><div style=\"position:relative;width:100%;height:0;padding-bottom:60%;\"><span style=\"color:#565656\">Make this Notebook Trusted to load map: File -> Trust Notebook</span><iframe src=\"about:blank\" style=\"position:absolute;width:100%;height:100%;left:0;top:0;border:none !important;\" data-html=%3C%21DOCTYPE%20html%3E%0A%3Chead%3E%20%20%20%20%0A%20%20%20%20%3Cmeta%20http-equiv%3D%22content-type%22%20content%3D%22text/html%3B%20charset%3DUTF-8%22%20/%3E%0A%20%20%20%20%0A%20%20%20%20%20%20%20%20%3Cscript%3E%0A%20%20%20%20%20%20%20%20%20%20%20%20L_NO_TOUCH%20%3D%20false%3B%0A%20%20%20%20%20%20%20%20%20%20%20%20L_DISABLE_3D%20%3D%20false%3B%0A%20%20%20%20%20%20%20%20%3C/script%3E%0A%20%20%20%20%0A%20%20%20%20%3Cscript%20src%3D%22https%3A//cdn.jsdelivr.net/npm/leaflet%401.6.0/dist/leaflet.js%22%3E%3C/script%3E%0A%20%20%20%20%3Cscript%20src%3D%22https%3A//code.jquery.com/jquery-1.12.4.min.js%22%3E%3C/script%3E%0A%20%20%20%20%3Cscript%20src%3D%22https%3A//maxcdn.bootstrapcdn.com/bootstrap/3.2.0/js/bootstrap.min.js%22%3E%3C/script%3E%0A%20%20%20%20%3Cscript%20src%3D%22https%3A//cdnjs.cloudflare.com/ajax/libs/Leaflet.awesome-markers/2.0.2/leaflet.awesome-markers.js%22%3E%3C/script%3E%0A%20%20%20%20%3Clink%20rel%3D%22stylesheet%22%20href%3D%22https%3A//cdn.jsdelivr.net/npm/leaflet%401.6.0/dist/leaflet.css%22/%3E%0A%20%20%20%20%3Clink%20rel%3D%22stylesheet%22%20href%3D%22https%3A//maxcdn.bootstrapcdn.com/bootstrap/3.2.0/css/bootstrap.min.css%22/%3E%0A%20%20%20%20%3Clink%20rel%3D%22stylesheet%22%20href%3D%22https%3A//maxcdn.bootstrapcdn.com/bootstrap/3.2.0/css/bootstrap-theme.min.css%22/%3E%0A%20%20%20%20%3Clink%20rel%3D%22stylesheet%22%20href%3D%22https%3A//maxcdn.bootstrapcdn.com/font-awesome/4.6.3/css/font-awesome.min.css%22/%3E%0A%20%20%20%20%3Clink%20rel%3D%22stylesheet%22%20href%3D%22https%3A//cdnjs.cloudflare.com/ajax/libs/Leaflet.awesome-markers/2.0.2/leaflet.awesome-markers.css%22/%3E%0A%20%20%20%20%3Clink%20rel%3D%22stylesheet%22%20href%3D%22https%3A//rawcdn.githack.com/python-visualization/folium/master/folium/templates/leaflet.awesome.rotate.css%22/%3E%0A%20%20%20%20%3Cstyle%3Ehtml%2C%20body%20%7Bwidth%3A%20100%25%3Bheight%3A%20100%25%3Bmargin%3A%200%3Bpadding%3A%200%3B%7D%3C/style%3E%0A%20%20%20%20%3Cstyle%3E%23map%20%7Bposition%3Aabsolute%3Btop%3A0%3Bbottom%3A0%3Bright%3A0%3Bleft%3A0%3B%7D%3C/style%3E%0A%20%20%20%20%0A%20%20%20%20%20%20%20%20%20%20%20%20%3Cmeta%20name%3D%22viewport%22%20content%3D%22width%3Ddevice-width%2C%0A%20%20%20%20%20%20%20%20%20%20%20%20%20%20%20%20initial-scale%3D1.0%2C%20maximum-scale%3D1.0%2C%20user-scalable%3Dno%22%20/%3E%0A%20%20%20%20%20%20%20%20%20%20%20%20%3Cstyle%3E%0A%20%20%20%20%20%20%20%20%20%20%20%20%20%20%20%20%23map_2838eb5da68e4e99ad35cee7dad49ae5%20%7B%0A%20%20%20%20%20%20%20%20%20%20%20%20%20%20%20%20%20%20%20%20position%3A%20relative%3B%0A%20%20%20%20%20%20%20%20%20%20%20%20%20%20%20%20%20%20%20%20width%3A%20100.0%25%3B%0A%20%20%20%20%20%20%20%20%20%20%20%20%20%20%20%20%20%20%20%20height%3A%20100.0%25%3B%0A%20%20%20%20%20%20%20%20%20%20%20%20%20%20%20%20%20%20%20%20left%3A%200.0%25%3B%0A%20%20%20%20%20%20%20%20%20%20%20%20%20%20%20%20%20%20%20%20top%3A%200.0%25%3B%0A%20%20%20%20%20%20%20%20%20%20%20%20%20%20%20%20%7D%0A%20%20%20%20%20%20%20%20%20%20%20%20%3C/style%3E%0A%20%20%20%20%20%20%20%20%0A%3C/head%3E%0A%3Cbody%3E%20%20%20%20%0A%20%20%20%20%0A%20%20%20%20%20%20%20%20%20%20%20%20%3Cdiv%20class%3D%22folium-map%22%20id%3D%22map_2838eb5da68e4e99ad35cee7dad49ae5%22%20%3E%3C/div%3E%0A%20%20%20%20%20%20%20%20%0A%3C/body%3E%0A%3Cscript%3E%20%20%20%20%0A%20%20%20%20%0A%20%20%20%20%20%20%20%20%20%20%20%20var%20map_2838eb5da68e4e99ad35cee7dad49ae5%20%3D%20L.map%28%0A%20%20%20%20%20%20%20%20%20%20%20%20%20%20%20%20%22map_2838eb5da68e4e99ad35cee7dad49ae5%22%2C%0A%20%20%20%20%20%20%20%20%20%20%20%20%20%20%20%20%7B%0A%20%20%20%20%20%20%20%20%20%20%20%20%20%20%20%20%20%20%20%20center%3A%20%5B1.357107%2C%20103.8194992%5D%2C%0A%20%20%20%20%20%20%20%20%20%20%20%20%20%20%20%20%20%20%20%20crs%3A%20L.CRS.EPSG3857%2C%0A%20%20%20%20%20%20%20%20%20%20%20%20%20%20%20%20%20%20%20%20zoom%3A%2011%2C%0A%20%20%20%20%20%20%20%20%20%20%20%20%20%20%20%20%20%20%20%20zoomControl%3A%20true%2C%0A%20%20%20%20%20%20%20%20%20%20%20%20%20%20%20%20%20%20%20%20preferCanvas%3A%20false%2C%0A%20%20%20%20%20%20%20%20%20%20%20%20%20%20%20%20%7D%0A%20%20%20%20%20%20%20%20%20%20%20%20%29%3B%0A%0A%20%20%20%20%20%20%20%20%20%20%20%20%0A%0A%20%20%20%20%20%20%20%20%0A%20%20%20%20%0A%20%20%20%20%20%20%20%20%20%20%20%20var%20tile_layer_7d156c225b534c3abcc00ec1bf611db4%20%3D%20L.tileLayer%28%0A%20%20%20%20%20%20%20%20%20%20%20%20%20%20%20%20%22https%3A//cartodb-basemaps-%7Bs%7D.global.ssl.fastly.net/light_all/%7Bz%7D/%7Bx%7D/%7By%7D.png%22%2C%0A%20%20%20%20%20%20%20%20%20%20%20%20%20%20%20%20%7B%22attribution%22%3A%20%22%5Cu0026copy%3B%20%5Cu003ca%20href%3D%5C%22http%3A//www.openstreetmap.org/copyright%5C%22%5Cu003eOpenStreetMap%5Cu003c/a%5Cu003e%20contributors%20%5Cu0026copy%3B%20%5Cu003ca%20href%3D%5C%22http%3A//cartodb.com/attributions%5C%22%5Cu003eCartoDB%5Cu003c/a%5Cu003e%2C%20CartoDB%20%5Cu003ca%20href%20%3D%5C%22http%3A//cartodb.com/attributions%5C%22%5Cu003eattributions%5Cu003c/a%5Cu003e%22%2C%20%22detectRetina%22%3A%20false%2C%20%22maxNativeZoom%22%3A%2018%2C%20%22maxZoom%22%3A%2018%2C%20%22minZoom%22%3A%200%2C%20%22noWrap%22%3A%20false%2C%20%22opacity%22%3A%201%2C%20%22subdomains%22%3A%20%22abc%22%2C%20%22tms%22%3A%20false%7D%0A%20%20%20%20%20%20%20%20%20%20%20%20%29.addTo%28map_2838eb5da68e4e99ad35cee7dad49ae5%29%3B%0A%20%20%20%20%20%20%20%20%0A%3C/script%3E onload=\"this.contentDocument.open();this.contentDocument.write(    decodeURIComponent(this.getAttribute('data-html')));this.contentDocument.close();\" allowfullscreen webkitallowfullscreen mozallowfullscreen></iframe></div></div>",
                        "text/plain": "<folium.folium.Map at 0x7faa80085b90>"
                    },
                    "execution_count": 17,
                    "metadata": {},
                    "output_type": "execute_result"
                }
            ],
            "source": "#Obtain coordinates of Singapore and generate a basic map\naddress = 'Singapore'\ngeolocator = Nominatim(user_agent=\"sg_explorer\")\nlocation = geolocator.geocode(address)\nlatitude = location.latitude\nlongitude = location.longitude\nprint('The geograpical coordinate of Singapore are {}, {}.'.format(latitude, longitude))\n# create map of Singapore using latitude and longitude values\nmap_sg = folium.Map(location=[latitude, longitude], zoom_start=11, tiles='cartodbpositron')\nmap_sg"
        },
        {
            "cell_type": "markdown",
            "metadata": {},
            "source": "## Rental Prices Data\nWe will be using a dataset of 'Median Rentals of Private Non-Landed Residential Properties' from the Urban Redevelopment Authority found here: https://www.ura.gov.sg/Corporate/Property/Property-Data/Private-Residential-Properties\n\nThe dataset contains the median rental prices of different residential properties in Singapore at a $ per square meter per month basis. The dataset is in a PDF document, so we haven used a converter to convert it to CSV format and made some adjustments to make it more readable.\n\nWe will now download the dataset and put it into a pandas dataframe."
        },
        {
            "cell_type": "code",
            "execution_count": 1,
            "metadata": {},
            "outputs": [
                {
                    "data": {
                        "text/html": "<div>\n<style scoped>\n    .dataframe tbody tr th:only-of-type {\n        vertical-align: middle;\n    }\n\n    .dataframe tbody tr th {\n        vertical-align: top;\n    }\n\n    .dataframe thead th {\n        text-align: right;\n    }\n</style>\n<table border=\"1\" class=\"dataframe\">\n  <thead>\n    <tr style=\"text-align: right;\">\n      <th></th>\n      <th>Name</th>\n      <th>Postal District</th>\n      <th>Median Rent Per SQM Per Month</th>\n    </tr>\n  </thead>\n  <tbody>\n    <tr>\n      <th>0</th>\n      <td>10 SHELFORD</td>\n      <td>11</td>\n      <td>44.59</td>\n    </tr>\n    <tr>\n      <th>1</th>\n      <td>18 WOODSVILLE</td>\n      <td>13</td>\n      <td>38.24</td>\n    </tr>\n    <tr>\n      <th>2</th>\n      <td>1919</td>\n      <td>9</td>\n      <td>49.60</td>\n    </tr>\n    <tr>\n      <th>3</th>\n      <td>2 RVG</td>\n      <td>9</td>\n      <td>42.31</td>\n    </tr>\n    <tr>\n      <th>4</th>\n      <td>26 NEWTON</td>\n      <td>11</td>\n      <td>52.27</td>\n    </tr>\n  </tbody>\n</table>\n</div>",
                        "text/plain": "             Name  Postal District  Median Rent Per SQM Per Month\n0    10 SHELFORD                11                          44.59\n1  18 WOODSVILLE                13                          38.24\n2            1919                9                          49.60\n3          2 RVG                 9                          42.31\n4      26 NEWTON                11                          52.27"
                    },
                    "execution_count": 1,
                    "metadata": {},
                    "output_type": "execute_result"
                }
            ],
            "source": "# The code was removed by Watson Studio for sharing."
        },
        {
            "cell_type": "code",
            "execution_count": 2,
            "metadata": {},
            "outputs": [
                {
                    "data": {
                        "text/plain": "(642, 3)"
                    },
                    "execution_count": 2,
                    "metadata": {},
                    "output_type": "execute_result"
                }
            ],
            "source": "df_rent.shape"
        },
        {
            "cell_type": "code",
            "execution_count": 3,
            "metadata": {},
            "outputs": [
                {
                    "name": "stdout",
                    "output_type": "stream",
                    "text": "/opt/conda/envs/Python-3.7-main/lib/python3.7/site-packages/secretstorage/dhcrypto.py:16: CryptographyDeprecationWarning: int_from_bytes is deprecated, use int.from_bytes instead\n  from cryptography.utils import int_from_bytes\n/opt/conda/envs/Python-3.7-main/lib/python3.7/site-packages/secretstorage/util.py:25: CryptographyDeprecationWarning: int_from_bytes is deprecated, use int.from_bytes instead\n  from cryptography.utils import int_from_bytes\nCollecting opencage\n  Downloading opencage-1.2.2-py3-none-any.whl (6.1 kB)\nRequirement already satisfied: pyopenssl>=0.15.1 in /opt/conda/envs/Python-3.7-main/lib/python3.7/site-packages (from opencage) (19.1.0)\nCollecting backoff>=1.10.0\n  Downloading backoff-1.10.0-py2.py3-none-any.whl (31 kB)\nRequirement already satisfied: six>=1.4.0 in /opt/conda/envs/Python-3.7-main/lib/python3.7/site-packages (from opencage) (1.15.0)\nRequirement already satisfied: Requests>=2.2.0 in /opt/conda/envs/Python-3.7-main/lib/python3.7/site-packages (from opencage) (2.24.0)\nRequirement already satisfied: cryptography>=2.8 in /opt/conda/envs/Python-3.7-main/lib/python3.7/site-packages (from pyopenssl>=0.15.1->opencage) (3.4.7)\nRequirement already satisfied: idna<3,>=2.5 in /opt/conda/envs/Python-3.7-main/lib/python3.7/site-packages (from Requests>=2.2.0->opencage) (2.9)\nRequirement already satisfied: certifi>=2017.4.17 in /opt/conda/envs/Python-3.7-main/lib/python3.7/site-packages (from Requests>=2.2.0->opencage) (2020.12.5)\nRequirement already satisfied: chardet<4,>=3.0.2 in /opt/conda/envs/Python-3.7-main/lib/python3.7/site-packages (from Requests>=2.2.0->opencage) (3.0.4)\nRequirement already satisfied: urllib3!=1.25.0,!=1.25.1,<1.26,>=1.21.1 in /opt/conda/envs/Python-3.7-main/lib/python3.7/site-packages (from Requests>=2.2.0->opencage) (1.25.9)\nRequirement already satisfied: cffi>=1.12 in /opt/conda/envs/Python-3.7-main/lib/python3.7/site-packages (from cryptography>=2.8->pyopenssl>=0.15.1->opencage) (1.14.0)\nRequirement already satisfied: pycparser in /opt/conda/envs/Python-3.7-main/lib/python3.7/site-packages (from cffi>=1.12->cryptography>=2.8->pyopenssl>=0.15.1->opencage) (2.20)\nInstalling collected packages: backoff, opencage\nSuccessfully installed backoff-1.10.0 opencage-1.2.2\n"
                }
            ],
            "source": "#Use OpenCage geocoder to obtain coordinates of locations in df_rent\n!pip install opencage"
        },
        {
            "cell_type": "code",
            "execution_count": 4,
            "metadata": {},
            "outputs": [],
            "source": "from opencage.geocoder import OpenCageGeocode"
        },
        {
            "cell_type": "code",
            "execution_count": null,
            "metadata": {},
            "outputs": [],
            "source": "#Obtain coordinates of each apartment name in df_rent and put into df_rent\nkey = '1fec95fd5b7f49c09d2e57f18be02f97' #OpenCage API key\ngeocoder = OpenCageGeocode(key)\n\nlist_lat = []   # create empty lists\n\nlist_lon = []\nfor index, row in df_rent.iterrows(): # iterate over rows in dataframe\n\n\n\n    Name = row['Name']       \n    query = str(Name)+', Singapore'\n\n    results = geocoder.geocode(query)   \n    lat = results[0]['geometry']['lat']\n    long = results[0]['geometry']['lng']\n\n    list_lat.append(lat)\n    list_lon.append(long)\n\n# Create new columns from lists    \n\ndf_rent['Latitude'] = list_lat   \n\ndf_rent['Longitude'] = list_lon"
        },
        {
            "cell_type": "code",
            "execution_count": null,
            "metadata": {},
            "outputs": [],
            "source": ""
        },
        {
            "cell_type": "code",
            "execution_count": null,
            "metadata": {},
            "outputs": [],
            "source": ""
        }
    ],
    "metadata": {
        "kernelspec": {
            "display_name": "Python 3.7",
            "language": "python",
            "name": "python3"
        },
        "language_info": {
            "codemirror_mode": {
                "name": "ipython",
                "version": 3
            },
            "file_extension": ".py",
            "mimetype": "text/x-python",
            "name": "python",
            "nbconvert_exporter": "python",
            "pygments_lexer": "ipython3",
            "version": "3.7.10"
        }
    },
    "nbformat": 4,
    "nbformat_minor": 1
}