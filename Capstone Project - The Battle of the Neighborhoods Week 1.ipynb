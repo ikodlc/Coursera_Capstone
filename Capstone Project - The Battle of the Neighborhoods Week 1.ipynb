{
    "cells": [
        {
            "cell_type": "markdown",
            "metadata": {
                "collapsed": true
            },
            "source": "# Capstone Project - The Battle of Neighborhoods"
        },
        {
            "cell_type": "markdown",
            "metadata": {},
            "source": "## Applied Data Science Capstone by IBM/Coursera "
        },
        {
            "cell_type": "markdown",
            "metadata": {},
            "source": "## Introduction"
        },
        {
            "cell_type": "markdown",
            "metadata": {},
            "source": "### Background\nExpats from all over the world move to Singapore in large numbers on a yearly basis and at present there are approximately 1.64 million none permanent residents/citizens living in Singapore (September 2020). Singapore is widely regarded as the easiest city in Asia for expats to fit into and it allows foreigners an opportunity to become acquainted with different cultures in a relatively safe and modern environment.\n\nSingapore is an efficient and clean Asian city that retains much of the charm from its British colonial days whilst also offering a cutting edge, well-developed environment. Singapore\u2019s position on the southern tip of Malaysia has allowed it to develop into one of the most important trade and finance centers in Asia and today it is the fifth wealthiest country in the world according to GDP. It also has the fourth largest foreign exchange trading center in the world.\n\nSingapore\u2019s population of 5.69 million people (September 2020) largely consist of people of Chinese (70%), Malay and Indian backgrounds. The main religions followed in Singapore are Buddhism, Islam, Hinduism, Christianity and Tao.\n\nWhile Singapore does offer a high standard of living, it is also one of the most expensive cities in the world to live in. Expatriates will find that property prices are very high (whether to rent or buy), alcohol is also taxed at a high rate, and it is also costly to own a car due to the heavy taxes that are imposed on vehicles.\n\nHowever, due to its authoritarian state, expats will find that food and groceries are quite reasonable and public transportation is efficient and orderly."
        },
        {
            "cell_type": "markdown",
            "metadata": {},
            "source": "## Business Problem \nAs there are still many expats looking to move to Singapore, we would like to define some factors to guide us in choosing an optimal location within the city to move to:\n\n1. Locations near commercial real estate areas (malls, cafes, groceries, etc.)\n2. Locations near transportation hubs (MRT, buses, etc.)\n3. Slightly lower rental prices\n\nThese factors were chosen to ensure a higher chance of cost-savings and sustainability when moving to Singapore."
        },
        {
            "cell_type": "markdown",
            "metadata": {},
            "source": "## Data Description\nIn order to investigate this problem, we will be looking at the following data:\n\n1. We will be using a map of the Region Boundaries depicting the districts of Singapore from the Urban Redevelopment Authority's Master Plan 2014 to plot our data.\n2. We will be using a dataset of Median Rentals of Private Non-Landed Residential Properties by Name from the Urban Redevelopment Authority, which shows the median rent per sqm per month to get an estimate of rental prices of different housing building locations around Singapore.\n3. We will use the Foursquare API to obtain a list of commercial real estate and transportation hubs in each district around Singapore."
        },
        {
            "cell_type": "markdown",
            "metadata": {},
            "source": "## Methodology\nThe Methodology section will describe the main components of our analysis. This section is composed of four stages:\n\n1. Collecting Inspection Data\n2. Exploring and Understanding the Data\n3. Data Preparation and Pre-Processing \n4. Modelling"
        },
        {
            "cell_type": "markdown",
            "metadata": {},
            "source": "### Setting up the basics"
        },
        {
            "cell_type": "code",
            "execution_count": null,
            "metadata": {},
            "outputs": [],
            "source": "# First import the most likely used libraries\nimport pandas as pd\nimport numpy as np\nimport requests # library to handle requests\n\n#To plot maps\n!conda install -c conda-forge folium=0.11.0 --yes\n#!pip install folium\nimport folium\nimport json # library to handle JSON files\n\n!conda install -c conda-forge geopy --yes \nfrom geopy.geocoders import Nominatim # convert an address into latitude and longitude values\n\nprint('Libraries imported.')"
        },
        {
            "cell_type": "markdown",
            "metadata": {},
            "source": "### Generate a map of Singapore"
        },
        {
            "cell_type": "code",
            "execution_count": null,
            "metadata": {},
            "outputs": [],
            "source": "#Obtain coordinates of Singapore and generate a basic map\naddress = 'Singapore'\ngeolocator = Nominatim(user_agent=\"sg_explorer\")\nlocation = geolocator.geocode(address)\nlatitude = location.latitude\nlongitude = location.longitude\nprint('The geograpical coordinate of Singapore are {}, {}.'.format(latitude, longitude))\n# create map of Singapore using latitude and longitude values\nmap_sg = folium.Map(location=[latitude, longitude], zoom_start=11, tiles='cartodbpositron')\nmap_sg"
        },
        {
            "cell_type": "code",
            "execution_count": null,
            "metadata": {},
            "outputs": [],
            "source": ""
        }
    ],
    "metadata": {
        "kernelspec": {
            "display_name": "Python 3.7",
            "language": "python",
            "name": "python3"
        },
        "language_info": {
            "codemirror_mode": {
                "name": "ipython",
                "version": 3
            },
            "file_extension": ".py",
            "mimetype": "text/x-python",
            "name": "python",
            "nbconvert_exporter": "python",
            "pygments_lexer": "ipython3",
            "version": "3.7.10"
        }
    },
    "nbformat": 4,
    "nbformat_minor": 1
}