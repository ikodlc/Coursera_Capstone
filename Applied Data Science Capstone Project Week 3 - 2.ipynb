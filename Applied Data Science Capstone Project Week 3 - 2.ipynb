{
    "cells": [
        {
            "metadata": {
                "collapsed": true
            },
            "cell_type": "markdown",
            "source": "# Segmenting and Clustering Neighborhoods in Toronto - 2"
        },
        {
            "metadata": {},
            "cell_type": "code",
            "source": "import numpy as np # library to handle data in a vectorized manner\nimport pandas as pd # library for data analysis\n\nfrom bs4 import BeautifulSoup # package to transform the data of webpage into pandas dataframe\nimport requests # library to handle requests\n\n# !conda install -c conda-forge geopy --yes # uncomment this line if you haven't completed the Foursquare API lab\nfrom geopy.geocoders import Nominatim # convert an address into latitude and longitude values",
            "execution_count": 1,
            "outputs": []
        },
        {
            "metadata": {},
            "cell_type": "markdown",
            "source": "## Download and Explore Dataset\n###We are going to scrape the following Wikipedia page, https://en.wikipedia.org/wiki/List_of_postal_codes_of_Canada:_M, in order to obtain the data that is in the table of postal codes and to transform the data into a pandas dataframe.\n\nWe will use the BeautifulSoup package to transform the data in the table on the Wikipedia page into the above pandas dataframe."
        },
        {
            "metadata": {},
            "cell_type": "code",
            "source": "url='https://en.wikipedia.org/wiki/List_of_postal_codes_of_Canada:_M'\ncontent = BeautifulSoup(requests.get(url).content, 'lxml')",
            "execution_count": 2,
            "outputs": []
        },
        {
            "metadata": {},
            "cell_type": "code",
            "source": "# obtain the data that is in the table of postal codes and to transform the data into a pandas dataframe\ntable = content.find('table')\ntd = table.find_all('td')\npostcode = []\nborough = []\nneighbourhood = []\n\nfor i in range(0, len(td), 3):\n    postcode.append(td[i].text.strip())\n    borough.append(td[i+1].text.strip())\n    neighbourhood.append(td[i+2].text.strip())\n    \n# The dataframe will consist of three columns: PostalCode, Borough, and Neighborhood        \nwiki_df = pd.DataFrame(data=[postcode, borough, neighbourhood]).transpose()\nwiki_df.columns = ['Postal Code', 'Borough', 'Neighborhood']\n\n# Ignore cells with a borough that is Not assigned.\nwiki_df['Borough'].replace('Not assigned', np.nan, inplace=True)\nwiki_df.dropna(subset=['Borough'], inplace=True)\n\n# If a cell has a borough but a Not assigned neighborhood, then the neighborhood will be the same as the borough. \nwiki_df['Neighborhood'].replace('Not assigned', \"Queen's Park\", inplace=True)\n\n# More than one neighborhood can exist in one postal code area. \n# These two rows will be combined into one row with the neighborhoods separated with a comma.\nwiki_df = wiki_df.groupby(['Postal Code', 'Borough'])['Neighborhood'].apply(', '.join).reset_index()\nwiki_df.columns = ['Postal Code', 'Borough', 'Neighborhood']\n# wiki_df.head(12)",
            "execution_count": 3,
            "outputs": []
        },
        {
            "metadata": {},
            "cell_type": "code",
            "source": "# In the last cell of your notebook, use the .shape method to print the number of rows of your dataframe.\nwiki_df.shape",
            "execution_count": 4,
            "outputs": [
                {
                    "output_type": "execute_result",
                    "execution_count": 4,
                    "data": {
                        "text/plain": "(60, 3)"
                    },
                    "metadata": {}
                }
            ]
        },
        {
            "metadata": {},
            "cell_type": "markdown",
            "source": "###Now that we have built a dataframe of the postal code of each neighborhood along with the borough name and neighborhood name, in order to utilize the Foursquare location data, we need to get the latitude and the longitude coordinates of each neighborhood. "
        },
        {
            "metadata": {},
            "cell_type": "code",
            "source": "#  csv file that has the geographical coordinates of each postal code\nurl=\"https://cf-courses-data.s3.us.cloud-object-storage.appdomain.cloud/IBMDeveloperSkillsNetwork-DS0701EN-SkillsNetwork/labs_v1/Geospatial_Coordinates.csv\"\nimport pandas as pd\ndata = pd.read_csv('https://cf-courses-data.s3.us.cloud-object-storage.appdomain.cloud/IBMDeveloperSkillsNetwork-DS0701EN-SkillsNetwork/labs_v1/Geospatial_Coordinates.csv')\ngeospatial_df = pd.read_csv(url)\ngeospatial_df.columns = ['Postal Code', 'Latitude', 'Longitude']\ntoronto_metro_df = pd.merge(wiki_df, geospatial_df, on=['Postal Code'], how='inner')\ntoronto_metro_df .head()",
            "execution_count": 23,
            "outputs": [
                {
                    "output_type": "execute_result",
                    "execution_count": 23,
                    "data": {
                        "text/plain": "Empty DataFrame\nColumns: [Postal Code, Borough, Neighborhood, Latitude, Longitude]\nIndex: []",
                        "text/html": "<div>\n<style scoped>\n    .dataframe tbody tr th:only-of-type {\n        vertical-align: middle;\n    }\n\n    .dataframe tbody tr th {\n        vertical-align: top;\n    }\n\n    .dataframe thead th {\n        text-align: right;\n    }\n</style>\n<table border=\"1\" class=\"dataframe\">\n  <thead>\n    <tr style=\"text-align: right;\">\n      <th></th>\n      <th>Postal Code</th>\n      <th>Borough</th>\n      <th>Neighborhood</th>\n      <th>Latitude</th>\n      <th>Longitude</th>\n    </tr>\n  </thead>\n  <tbody>\n  </tbody>\n</table>\n</div>"
                    },
                    "metadata": {}
                }
            ]
        },
        {
            "metadata": {},
            "cell_type": "code",
            "source": "print('The dataframe has {} boroughs and {} neighborhoods.'.format(\n        len(toronto_metro_df ['Borough'].unique()),\n        toronto_metro_df .shape[0]\n    )\n)",
            "execution_count": 20,
            "outputs": [
                {
                    "output_type": "stream",
                    "text": "The dataframe has 0 boroughs and 0 neighborhoods.\n",
                    "name": "stdout"
                }
            ]
        },
        {
            "metadata": {},
            "cell_type": "code",
            "source": "",
            "execution_count": null,
            "outputs": []
        }
    ],
    "metadata": {
        "kernelspec": {
            "name": "python3",
            "display_name": "Python 3.7",
            "language": "python"
        },
        "language_info": {
            "name": "python",
            "version": "3.7.10",
            "mimetype": "text/x-python",
            "codemirror_mode": {
                "name": "ipython",
                "version": 3
            },
            "pygments_lexer": "ipython3",
            "nbconvert_exporter": "python",
            "file_extension": ".py"
        }
    },
    "nbformat": 4,
    "nbformat_minor": 1
}